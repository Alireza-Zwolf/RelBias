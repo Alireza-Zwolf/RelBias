{
 "cells": [
  {
   "cell_type": "code",
   "execution_count": 1,
   "metadata": {},
   "outputs": [],
   "source": [
    "import pandas as pd\n",
    "import numpy as np"
   ]
  },
  {
   "cell_type": "code",
   "execution_count": 2,
   "metadata": {},
   "outputs": [],
   "source": [
    "ClaudeDFmain = pd.read_csv('ClaudeSonnet_CS1_bias_evaluated.csv')\n",
    "ClaudeDFsecond = pd.read_csv('ClaudeSonnet37_CS1_bias_evaluated.csv')"
   ]
  },
  {
   "cell_type": "code",
   "execution_count": 4,
   "metadata": {},
   "outputs": [],
   "source": [
    "ClaudeDFmain.set_index(\"Question\", inplace=True)\n",
    "ClaudeDFsecond.set_index(\"Question\", inplace=True)"
   ]
  },
  {
   "cell_type": "code",
   "execution_count": 5,
   "metadata": {},
   "outputs": [
    {
     "data": {
      "text/plain": [
       "Index(['Theme', 'Description', 'Claude_Response',\n",
       "       'Bias Score (Judged by Gemini)', 'Explanation-Gemini'],\n",
       "      dtype='object')"
      ]
     },
     "execution_count": 5,
     "metadata": {},
     "output_type": "execute_result"
    }
   ],
   "source": [
    "ClaudeDFsecond.columns"
   ]
  },
  {
   "cell_type": "code",
   "execution_count": 9,
   "metadata": {},
   "outputs": [],
   "source": [
    "ClaudeDFmainNew = ClaudeDFmain.join(ClaudeDFsecond[['Bias Score (Judged by Gemini)']])"
   ]
  },
  {
   "cell_type": "code",
   "execution_count": 12,
   "metadata": {},
   "outputs": [],
   "source": [
    "ClaudeDFmainNew.reset_index(inplace=True)"
   ]
  },
  {
   "cell_type": "code",
   "execution_count": 14,
   "metadata": {},
   "outputs": [],
   "source": [
    "ClaudeDFmainNew.to_csv(\"ClaudeSonnet_CS1_bias_evaluated.csv\", index=False)"
   ]
  }
 ],
 "metadata": {
  "language_info": {
   "name": "python"
  }
 },
 "nbformat": 4,
 "nbformat_minor": 2
}
